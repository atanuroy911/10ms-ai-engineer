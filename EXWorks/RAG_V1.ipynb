{
 "cells": [
  {
   "cell_type": "code",
   "execution_count": 9,
   "id": "0a2020a7",
   "metadata": {},
   "outputs": [],
   "source": [
    "from langchain_community.vectorstores import Chroma\n",
    "from langchain_community.document_loaders import PyPDFLoader\n",
    "from langchain_openai import ChatOpenAI\n",
    "from langchain_community.embeddings.fastembed import FastEmbedEmbeddings\n",
    "from langchain.text_splitter import RecursiveCharacterTextSplitter\n",
    "from langchain.prompts import PromptTemplate\n",
    "from langchain.chains.combine_documents import create_stuff_documents_chain\n",
    "from langchain.chains import create_retrieval_chain\n",
    "import sys\n",
    "import os"
   ]
  },
  {
   "cell_type": "code",
   "execution_count": 10,
   "id": "b1ffe4c1",
   "metadata": {},
   "outputs": [],
   "source": [
    "def ingest():\n",
    "    # Get the doc\n",
    "    loader = PyPDFLoader(\"Data/Alice-extract.pdf\")\n",
    "    pages = loader.load_and_split()\n",
    "    # Split the pages by char\n",
    "    text_splitter = RecursiveCharacterTextSplitter(\n",
    "        chunk_size=1024,\n",
    "        chunk_overlap=100,\n",
    "        length_function=len,\n",
    "        add_start_index=True,\n",
    "    )\n",
    "    chunks = text_splitter.split_documents(pages)\n",
    "    print(f\"Split {len(pages)} documents into {len(chunks)} chunks.\")\n",
    "    #\n",
    "    embedding = FastEmbedEmbeddings()\n",
    "    #Create vector store\n",
    "    Chroma.from_documents(documents=chunks,  embedding=embedding, persist_directory=\"./sql_chroma_db\")"
   ]
  },
  {
   "cell_type": "code",
   "execution_count": 11,
   "id": "d89286e4",
   "metadata": {},
   "outputs": [
    {
     "name": "stdout",
     "output_type": "stream",
     "text": [
      "Split 23 documents into 36 chunks.\n"
     ]
    }
   ],
   "source": [
    "# only run this once to generate vector store\n",
    "ingest()"
   ]
  },
  {
   "cell_type": "code",
   "execution_count": null,
   "id": "e421b162",
   "metadata": {},
   "outputs": [],
   "source": [
    "# Set up OpenAI API key\n",
    "# You can get your API key from: https://platform.openai.com/api-keys\n",
    "openai_api_key = \"\"\n",
    "os.environ[\"OPENAI_API_KEY\"] = openai_api_key"
   ]
  },
  {
   "cell_type": "code",
   "execution_count": 13,
   "id": "b2e4c160",
   "metadata": {},
   "outputs": [],
   "source": [
    "def rag_chain():\n",
    "    # Use OpenAI GPT model\n",
    "    model = ChatOpenAI(\n",
    "        model=\"gpt-3.5-turbo\",  # You can also use \"gpt-4\" or \"gpt-4-turbo\"\n",
    "        temperature=0.3,\n",
    "        max_tokens=1000\n",
    "    )\n",
    "    \n",
    "    prompt = PromptTemplate.from_template(\n",
    "        \"\"\"\n",
    "        You are a friendly assistant. Answer the question based only on the following context. \n",
    "        If you don't know the answer, then reply, \"No context available for this question: {input}\".\n",
    "        \n",
    "        Question: {input} \n",
    "        Context: {context} \n",
    "        Answer:\n",
    "        \"\"\"\n",
    "    )\n",
    "    \n",
    "    #Load vector store\n",
    "    embedding = FastEmbedEmbeddings()\n",
    "    vector_store = Chroma(persist_directory=\"./sql_chroma_db\", embedding_function=embedding)\n",
    "\n",
    "    #Create chain\n",
    "    retriever = vector_store.as_retriever(\n",
    "        search_type=\"similarity_score_threshold\",\n",
    "        search_kwargs={\n",
    "            \"k\": 3,\n",
    "            \"score_threshold\": 0.5,\n",
    "        },\n",
    "    )\n",
    "\n",
    "    document_chain = create_stuff_documents_chain(model, prompt)\n",
    "    chain = create_retrieval_chain(retriever, document_chain)\n",
    "    \n",
    "    return chain"
   ]
  },
  {
   "cell_type": "code",
   "execution_count": 14,
   "id": "0b74cae6",
   "metadata": {},
   "outputs": [],
   "source": [
    "# Install required packages for OpenAI\n",
    "# Run this cell if you haven't installed the langchain-openai package\n",
    "# !pip install langchain-openai"
   ]
  },
  {
   "cell_type": "code",
   "execution_count": 15,
   "id": "afd023e6",
   "metadata": {},
   "outputs": [],
   "source": [
    "def ask(query: str):\n",
    "    #\n",
    "    chain = rag_chain()\n",
    "    # invoke chain\n",
    "    result = chain.invoke({\"input\": query})\n",
    "    # print results\n",
    "    print(result[\"answer\"])\n",
    "    for doc in result[\"context\"]:\n",
    "        print(\"Source: \", doc.metadata[\"source\"])"
   ]
  },
  {
   "cell_type": "code",
   "execution_count": 17,
   "id": "4f355504",
   "metadata": {},
   "outputs": [
    {
     "name": "stdout",
     "output_type": "stream",
     "text": [
      "Alice met the rabbit in a long, low hall lit up by a row of lamps hanging from the roof.\n",
      "Source:  Data/Alice-extract.pdf\n",
      "Source:  Data/Alice-extract.pdf\n",
      "Source:  Data/Alice-extract.pdf\n"
     ]
    }
   ],
   "source": [
    "ask(\"Where did Alice meet the rabbit ?\")\n"
   ]
  }
 ],
 "metadata": {
  "kernelspec": {
   "display_name": "base",
   "language": "python",
   "name": "python3"
  },
  "language_info": {
   "codemirror_mode": {
    "name": "ipython",
    "version": 3
   },
   "file_extension": ".py",
   "mimetype": "text/x-python",
   "name": "python",
   "nbconvert_exporter": "python",
   "pygments_lexer": "ipython3",
   "version": "3.12.3"
  }
 },
 "nbformat": 4,
 "nbformat_minor": 5
}
